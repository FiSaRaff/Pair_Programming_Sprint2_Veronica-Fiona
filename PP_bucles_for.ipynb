{
 "cells": [
  {
   "cell_type": "markdown",
   "metadata": {},
   "source": [
    "Ejericios bucles for\n",
    "\n",
    " \n",
    "\n",
    " \n",
    "\n",
    "\n",
    "\n",
    "\n",
    "\n",
    " \n",
    "\n",
    "\n",
    "    Calcular el factorial de un número utilizando un bucle for\n",
    "\n",
    "        Descripción: Dado un número entero positivo, calcula su factorial utilizando un bucle for.\n",
    "\n",
    "    Juego de adivinar palabras utilizando un bucle for\n",
    "\n",
    "        Descripción: Crea un juego en el que el jugador debe adivinar una palabra secreta. El jugador tiene un número limitado de intentos y se le proporcionan pistas después de cada intento. Utiliza un bucle for para controlar los intentos del jugador.\n",
    "\n"
   ]
  },
  {
   "cell_type": "markdown",
   "metadata": {},
   "source": [
    "1: Imprimir los números del 1 al 5 utilizando un bucle for.\n",
    "Descripción: Utiliza un bucle for para imprimir los números del 1 al 5 (incluido) en orden ascendente."
   ]
  },
  {
   "cell_type": "code",
   "execution_count": 25,
   "metadata": {},
   "outputs": [
    {
     "name": "stdout",
     "output_type": "stream",
     "text": [
      "1\n",
      "2\n",
      "3\n",
      "4\n",
      "5\n"
     ]
    }
   ],
   "source": [
    "for num in range(1,6):\n",
    "    print(num)"
   ]
  },
  {
   "cell_type": "markdown",
   "metadata": {},
   "source": [
    "Calcular la suma de los primeros 10 números naturales utilizando un bucle for\n",
    "\n",
    "        Descripción: Utiliza un bucle for para calcular la suma de los primeros 10 números naturales (1 + 2 + 3 + ... + 10)."
   ]
  },
  {
   "cell_type": "code",
   "execution_count": 28,
   "metadata": {},
   "outputs": [
    {
     "name": "stdout",
     "output_type": "stream",
     "text": [
      "1\n",
      "2\n",
      "3\n",
      "4\n",
      "5\n",
      "6\n",
      "7\n",
      "8\n",
      "9\n",
      "10\n",
      "55\n"
     ]
    }
   ],
   "source": [
    "suma = 0\n",
    "for num in range(1,11):\n",
    "    print(num)\n",
    "    suma += num\n",
    "print(suma)\n",
    "    "
   ]
  },
  {
   "cell_type": "markdown",
   "metadata": {},
   "source": [
    "    Calcular el producto de los elementos de una lista\n",
    "\n",
    "        Descripción: Dada una lista de números, utiliza un bucle for para calcular el producto de todos los elementos."
   ]
  },
  {
   "cell_type": "code",
   "execution_count": 43,
   "metadata": {},
   "outputs": [
    {
     "data": {
      "text/plain": [
       "[1, 45]"
      ]
     },
     "execution_count": 43,
     "metadata": {},
     "output_type": "execute_result"
    }
   ],
   "source": [
    "#Quiero comprobar que la multiplicación funciona, saco los dos primeros números de la lista\n",
    "lista_numeros = [1, 45, 64, 10, 22]\n",
    "lista_numeros[0:2]"
   ]
  },
  {
   "cell_type": "code",
   "execution_count": 42,
   "metadata": {},
   "outputs": [
    {
     "name": "stdout",
     "output_type": "stream",
     "text": [
      "633600\n"
     ]
    }
   ],
   "source": [
    "lista_numeros = [1, 45, 64, 10, 22]\n",
    "producto = 1\n",
    "for num in lista_numeros:\n",
    "    producto = producto * num\n",
    "print(producto)"
   ]
  },
  {
   "cell_type": "markdown",
   "metadata": {},
   "source": [
    "    Imprimir los caracteres de una cadena de texto\n",
    "\n",
    "        Descripción: Dada una cadena de texto, utiliza un bucle for para imprimir cada carácter en una línea separada."
   ]
  },
  {
   "cell_type": "code",
   "execution_count": 52,
   "metadata": {},
   "outputs": [
    {
     "name": "stdout",
     "output_type": "stream",
     "text": [
      "H\n",
      "o\n",
      "l\n",
      "a\n",
      " \n",
      "m\n",
      "e\n",
      " \n",
      "l\n",
      "l\n",
      "a\n",
      "m\n",
      "o\n",
      " \n",
      "F\n",
      "i\n",
      "o\n",
      "n\n",
      "a\n"
     ]
    }
   ],
   "source": [
    "cadena_texto = \"Hola me llamo Fiona\"\n",
    "for car in cadena_texto:\n",
    "    print(car)"
   ]
  },
  {
   "cell_type": "markdown",
   "metadata": {},
   "source": [
    "   Imprimir los números pares del 1 al 100 utilizando un bucle for\n",
    "\n",
    "        Descripción: Utiliza un bucle for para imprimir los números pares del 1 al 100 en orden ascendente."
   ]
  },
  {
   "cell_type": "code",
   "execution_count": 55,
   "metadata": {},
   "outputs": [
    {
     "name": "stdout",
     "output_type": "stream",
     "text": [
      "[2, 4, 6, 8, 10, 12, 14, 16, 18, 20, 22, 24, 26, 28, 30, 32, 34, 36, 38, 40, 42, 44, 46, 48, 50, 52, 54, 56, 58, 60, 62, 64, 66, 68, 70, 72, 74, 76, 78, 80, 82, 84, 86, 88, 90, 92, 94, 96, 98, 100]\n"
     ]
    }
   ],
   "source": [
    "numeros_pares = []\n",
    "for num in range(1,101):\n",
    "    if num % 2 == 0:\n",
    "        numeros_pares.append(num)\n",
    "print(numeros_pares)"
   ]
  },
  {
   "cell_type": "markdown",
   "metadata": {},
   "source": [
    "    Imprimir los números primos del 1 al 50 utilizando un bucle for\n",
    "\n",
    "        Descripción: Utiliza un bucle for para imprimir los números primos del 1 al 50 en orden ascendente.\n",
    "\n",
    "        NOTA: Según la Wikipedia, un número primo es un número natural mayor que 1 que no tiene divisores positivos más que 1 y él mismo."
   ]
  },
  {
   "cell_type": "code",
   "execution_count": 62,
   "metadata": {},
   "outputs": [
    {
     "name": "stdout",
     "output_type": "stream",
     "text": [
      "2\n",
      "no es primo\n",
      "3\n",
      "no es primo\n",
      "4\n",
      "no es primo\n",
      "5\n",
      "no es primo\n",
      "6\n",
      "no es primo\n",
      "7\n",
      "no es primo\n",
      "8\n",
      "no es primo\n",
      "9\n",
      "no es primo\n",
      "10\n",
      "no es primo\n",
      "11\n",
      "no es primo\n",
      "12\n",
      "no es primo\n",
      "13\n",
      "no es primo\n",
      "14\n",
      "no es primo\n",
      "15\n",
      "no es primo\n",
      "16\n",
      "no es primo\n",
      "17\n",
      "no es primo\n",
      "18\n",
      "no es primo\n",
      "19\n",
      "no es primo\n",
      "20\n",
      "no es primo\n",
      "21\n",
      "no es primo\n",
      "22\n",
      "no es primo\n",
      "23\n",
      "no es primo\n",
      "24\n",
      "no es primo\n",
      "25\n",
      "no es primo\n",
      "26\n",
      "no es primo\n",
      "27\n",
      "no es primo\n",
      "28\n",
      "no es primo\n",
      "29\n",
      "no es primo\n",
      "30\n",
      "no es primo\n",
      "31\n",
      "no es primo\n",
      "32\n",
      "no es primo\n",
      "33\n",
      "no es primo\n",
      "34\n",
      "no es primo\n",
      "35\n",
      "no es primo\n",
      "36\n",
      "no es primo\n",
      "37\n",
      "no es primo\n",
      "38\n",
      "no es primo\n",
      "39\n",
      "no es primo\n",
      "40\n",
      "no es primo\n",
      "41\n",
      "no es primo\n",
      "42\n",
      "no es primo\n",
      "43\n",
      "no es primo\n",
      "44\n",
      "no es primo\n",
      "45\n",
      "no es primo\n",
      "46\n",
      "no es primo\n",
      "47\n",
      "no es primo\n",
      "48\n",
      "no es primo\n",
      "49\n",
      "no es primo\n",
      "50\n",
      "no es primo\n"
     ]
    }
   ],
   "source": [
    "numeros_primos = []\n",
    "for num in range (1,51):\n",
    "    if num <= 1:\n",
    "        continue\n",
    "    else:\n",
    "        print(num)\n",
    "    if num/num != 1 and num/num > 0:\n",
    "        print(num)\n",
    "    else:\n",
    "        print(\"no es primo\")"
   ]
  }
 ],
 "metadata": {
  "kernelspec": {
   "display_name": "Python 3",
   "language": "python",
   "name": "python3"
  },
  "language_info": {
   "codemirror_mode": {
    "name": "ipython",
    "version": 3
   },
   "file_extension": ".py",
   "mimetype": "text/x-python",
   "name": "python",
   "nbconvert_exporter": "python",
   "pygments_lexer": "ipython3",
   "version": "3.9.6"
  }
 },
 "nbformat": 4,
 "nbformat_minor": 2
}
