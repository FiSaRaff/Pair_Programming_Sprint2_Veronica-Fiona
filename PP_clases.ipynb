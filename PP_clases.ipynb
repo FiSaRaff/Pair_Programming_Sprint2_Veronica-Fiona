{
 "cells": [
  {
   "cell_type": "markdown",
   "metadata": {},
   "source": [
    "La clase Empleados permite gestionar información relacionada con los empleados de una empresa, con las siguientes características:\n",
    "\n",
    "    Debes crear una clase llamada \"Empleados\" que tenga los siguientes atributos: nombre, apellidos, edad, posicion, año , vacaciones(cantidad de días de vacaciones que le quedan al empleado) y herramientas.\n",
    "\n",
    "    El constructor __init__ debe recibir estos atributos como parámetros y asignarlos a los respectivos atributos de la clase.\n",
    "\n",
    "    Los atributos representan la información personal y profesional de un empleado, como su nombre completo, edad, posición en la empresa, año de ingreso, días de vacaciones disponibles y una lista de herramientas que el empleado sabe utilizar."
   ]
  },
  {
   "cell_type": "markdown",
   "metadata": {},
   "source": [
    "Los métodos que debe recibir esta clase son:\n",
    "\n",
    "    Método \n",
    "    descripcion\n",
    "    : Proporciona una descripción del empleado, incluyendo su nombre, posición en la empresa, y la cantidad de días de vacaciones que le quedan para el año actual. Los pasos para resolver el ejercicio del método descripcion son:\n",
    "\n",
    "        Utilizar F-Strings: Utiliza f-strings para construir la descripción del empleado de manera legible y eficiente.\n",
    "\n",
    "        Especificar los Atributos a Incluir: Determina cuáles de los atributos del empleado se deben incluir en la descripción. Los atributos necesarios son nombre, posicion, año, y vacaciones.\n",
    "\n",
    "        Concatenar los Atributos: Usar f-strings para concatenar los atributos seleccionados y crear una descripción coherente."
   ]
  },
  {
   "cell_type": "markdown",
   "metadata": {},
   "source": [
    "Método \n",
    "cambiando_posicion\n",
    ": Verifica las herramientas que el empleado tiene en su lista y devuelve un mensaje específico basado en las herramientas. Puede elogiar al empleado si tiene \"Python\" en su lista o sugerirle que deje de usar \"Excel\" y aprenda Python. Los pasos para resolver este ejercicio son:\n",
    "\n",
    "    Iterar a través de las Herramientas: La función debe recorrer la lista de herramientas (self.herramientas) del empleado.\n",
    "\n",
    "    Evaluar Cada Herramienta: Para cada herramienta en la lista, verifica si es igual a \"Python\" o \"Excel\" (en minúsculas)."
   ]
  },
  {
   "cell_type": "markdown",
   "metadata": {},
   "source": [
    "Método \n",
    "calcular_antiguedad\n",
    ": Calcula la antigüedad del empleado en años y meses desde el año de ingreso hasta la fecha actual.\n",
    "\n",
    "    Calcular la Antigüedad en Años y Meses: Utiliza el módulo datetime de Python para obtener el año actual y el mes actual.\n",
    "\n",
    "    Generar el Mensaje de Antigüedad: Usa los valores calculados para años y meses de antigüedad para generar un mensaje descriptivo. Por ejemplo, \"Juan lleva 5 años y 3 meses en la empresa\"."
   ]
  },
  {
   "cell_type": "code",
   "execution_count": 42,
   "metadata": {},
   "outputs": [],
   "source": [
    "from datetime import datetime"
   ]
  },
  {
   "cell_type": "code",
   "execution_count": 44,
   "metadata": {},
   "outputs": [
    {
     "ename": "TypeError",
     "evalue": "unbound method datetime.date() needs an argument",
     "output_type": "error",
     "traceback": [
      "\u001b[0;31m---------------------------------------------------------------------------\u001b[0m",
      "\u001b[0;31mTypeError\u001b[0m                                 Traceback (most recent call last)",
      "Cell \u001b[0;32mIn[44], line 2\u001b[0m\n\u001b[1;32m      1\u001b[0m fecha_actual \u001b[38;5;241m=\u001b[39m datetime\u001b[38;5;241m.\u001b[39mnow()\n\u001b[0;32m----> 2\u001b[0m fecha_solo \u001b[38;5;241m=\u001b[39m \u001b[43mdatetime\u001b[49m\u001b[38;5;241;43m.\u001b[39;49m\u001b[43mdate\u001b[49m\u001b[43m(\u001b[49m\u001b[43m)\u001b[49m\n\u001b[1;32m      3\u001b[0m \u001b[38;5;28mprint\u001b[39m(fecha_solo)\n",
      "\u001b[0;31mTypeError\u001b[0m: unbound method datetime.date() needs an argument"
     ]
    }
   ],
   "source": [
    "fecha_actual = datetime.now()\n",
    "fecha_solo = datetime.date()\n",
    "print(fecha_solo)"
   ]
  },
  {
   "cell_type": "code",
   "execution_count": 32,
   "metadata": {},
   "outputs": [],
   "source": [
    "class Empleados:\n",
    "    def __init__(self, nombre, apellidos, edad, posicion, año, vacaciones, herramientas):\n",
    "        self.nombre = nombre\n",
    "        self.apellidos = apellidos\n",
    "        self.edad = edad\n",
    "        self.posicion = posicion\n",
    "        self.año = año\n",
    "        self.vacaciones = vacaciones\n",
    "        self.herramientas = herramientas\n",
    "\n",
    "    def descripcion(self):\n",
    "        print(f\"La empleada se llama {self.nombre} {self.apellidos}, su posición es {self.posicion}, y le quedan {self.vacaciones} días de vacaciones por disfrutar.\")\n",
    "\n",
    "    def cambiando_posicion(self):\n",
    "        for herramienta in self.herramientas:\n",
    "            if herramienta.lower() == \"python\":\n",
    "                print(f\"Felicidades, tienes conocimientos en Python\")\n",
    "                break\n",
    "            elif herramienta.lower() == \"excel\":\n",
    "                print(f\"Te recomendamos dejar de usar Excel y aprender python\")\n",
    "\n",
    "    def calcular_antigüedad(self):\n",
    "        fecha_actual = datetime.now\n",
    "        \n",
    "        \n",
    "        "
   ]
  },
  {
   "cell_type": "code",
   "execution_count": 33,
   "metadata": {},
   "outputs": [],
   "source": [
    "Empleada1 = Empleados(\"Fiona\", \"Sánchez\", 38, \"analista\", 2024, 30, [\"Python\", \"ordenador\", \"Excel\"])"
   ]
  },
  {
   "cell_type": "code",
   "execution_count": 34,
   "metadata": {},
   "outputs": [
    {
     "name": "stdout",
     "output_type": "stream",
     "text": [
      "La empleada se llama Fiona Sánchez, su posición es analista, y le quedan 30 días de vacaciones por disfrutar.\n"
     ]
    }
   ],
   "source": [
    "Empleada1.descripcion()"
   ]
  },
  {
   "cell_type": "code",
   "execution_count": 35,
   "metadata": {},
   "outputs": [
    {
     "name": "stdout",
     "output_type": "stream",
     "text": [
      "Felicidades, tienes conocimientos en Python\n"
     ]
    }
   ],
   "source": [
    "Empleada1.cambiando_posicion()"
   ]
  }
 ],
 "metadata": {
  "kernelspec": {
   "display_name": "Python 3",
   "language": "python",
   "name": "python3"
  },
  "language_info": {
   "codemirror_mode": {
    "name": "ipython",
    "version": 3
   },
   "file_extension": ".py",
   "mimetype": "text/x-python",
   "name": "python",
   "nbconvert_exporter": "python",
   "pygments_lexer": "ipython3",
   "version": "3.9.6"
  }
 },
 "nbformat": 4,
 "nbformat_minor": 2
}
